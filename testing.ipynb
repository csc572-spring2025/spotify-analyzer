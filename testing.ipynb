{
 "cells": [
  {
   "cell_type": "markdown",
   "id": "c3a86430",
   "metadata": {},
   "source": [
    "## Spotipy Tutorial/Experimentation (Bailey)\n",
    "Trying out both Authorization Flow (access user-specific data) and Client Credentials Flow (non-user-specific data)\n",
    "Notes (see \"Testing Spotipy\" Section): https://docs.google.com/document/d/13BgNK1BuNqQ_1GSvvP2oA2DypUYUZ_S-WlJOW74OK1M/edit?tab=t.0\n",
    "\n",
    "Make sure you have pandas and spotipy installed! (run ```pip install [library name]```)"
   ]
  },
  {
   "cell_type": "code",
   "execution_count": 78,
   "id": "603c77b4",
   "metadata": {},
   "outputs": [],
   "source": [
    "import pandas as pd\n",
    "import spotipy\n",
    "from spotipy.oauth2 import SpotifyOAuth # for authorization flow\n",
    "from spotipy.oauth2 import SpotifyClientCredentials # for client credentials flow"
   ]
  },
  {
   "cell_type": "code",
   "execution_count": 79,
   "id": "04a63255",
   "metadata": {},
   "outputs": [],
   "source": [
    "# !!! Replace this with your own Client ID and Secret !!!\n",
    "client_id = \"95ef00bf32594c069aaf7571750eac03\"\n",
    "client_secret = \"90abec9a42f54303ab34b3e48722487f\""
   ]
  },
  {
   "cell_type": "markdown",
   "id": "c8408768",
   "metadata": {},
   "source": [
    "### Authorization Flow"
   ]
  },
  {
   "cell_type": "code",
   "execution_count": 80,
   "id": "5dc9cece",
   "metadata": {},
   "outputs": [],
   "source": [
    "# Illustrates the Authorization flow\n",
    "# https://github.com/spotipy-dev/spotipy/blob/2.22.1/TUTORIAL.md\n",
    "\n",
    "# Spotipy has a built in class called SpotifyOAuth. Now sp is an object that can access my personal data.\n",
    "sp = spotipy.Spotify(auth_manager=SpotifyOAuth(client_id=client_id,\n",
    "                                               client_secret=client_secret,\n",
    "                                               redirect_uri=\"http://127.0.0.1:8000/callback\",\n",
    "                                               scope=\"user-library-read\"))"
   ]
  },
  {
   "cell_type": "code",
   "execution_count": 109,
   "id": "a7be02ab",
   "metadata": {},
   "outputs": [
    {
     "name": "stdout",
     "output_type": "stream",
     "text": [
      "back to friends\n",
      "I Told You Things\n",
      "If You Leave Me Now\n",
      "That's Why You Go Away\n",
      "It Must Have Been Love - From the Film \"Pretty Woman\"\n",
      "warm\n",
      "twilight zone\n",
      "Beaches\n",
      "I Think I Like When It Rains\n",
      "eternal sunshine\n",
      "everytime\n",
      "What It Is (Solo Version)\n",
      "DENIAL IS A RIVER\n",
      "One Of The Girls (with JENNIE, Lily Rose Depp)\n",
      "Fantastic (demo version) (from the series Arcane League of Legends)\n",
      "Sleep Well\n",
      "Where'd It Go Wrong?\n",
      "BMF\n",
      "Car's Outside\n",
      "Sports car\n"
     ]
    }
   ],
   "source": [
    "# Example: Get a list of\n",
    "my_tracks =sp.current_user_saved_tracks() # this defaults to showing the last 20 tracks you saved\n",
    "\n",
    "# display(my_tracks['items'])\n",
    "\n",
    "for track in my_tracks['items']:\n",
    "    print(track['track']['name'])"
   ]
  },
  {
   "cell_type": "markdown",
   "id": "ec1b6484",
   "metadata": {},
   "source": [
    "### Client Credentials Flow"
   ]
  },
  {
   "cell_type": "code",
   "execution_count": 82,
   "id": "98d857d7",
   "metadata": {},
   "outputs": [],
   "source": [
    "# Set up Spotipy object using Client Credentials Flow\n",
    "\n",
    "client_credentials_manager = SpotifyClientCredentials(client_id=client_id, client_secret=client_secret)\n",
    "sp = spotipy.Spotify(client_credentials_manager=client_credentials_manager)"
   ]
  },
  {
   "cell_type": "code",
   "execution_count": 83,
   "id": "36d297da",
   "metadata": {},
   "outputs": [
    {
     "name": "stdout",
     "output_type": "stream",
     "text": [
      "----- Top 10 tracks by Billie Eilish: -----\n",
      "Title: BIRDS OF A FEATHER\n",
      "URI: spotify:track:6dOtVTDdiauQNBQEDOtlAB\n",
      "Album: HIT ME HARD AND SOFT\n",
      "Popularity Score: 100\n",
      "Released on: 2024-05-17\n",
      "\n",
      "Title: WILDFLOWER\n",
      "URI: spotify:track:3QaPy1KgI7nu9FJEQUgn6h\n",
      "Album: HIT ME HARD AND SOFT\n",
      "Popularity Score: 96\n",
      "Released on: 2024-05-17\n",
      "\n",
      "Title: CHIHIRO\n",
      "URI: spotify:track:7BRD7x5pt8Lqa1eGYC4dzj\n",
      "Album: HIT ME HARD AND SOFT\n",
      "Popularity Score: 91\n",
      "Released on: 2024-05-17\n",
      "\n",
      "Title: Guess featuring billie eilish\n",
      "URI: spotify:track:0IsIY8pfu1yaGkPUD7pkDx\n",
      "Album: Brat and it’s completely different but also still brat\n",
      "Popularity Score: 87\n",
      "Released on: 2024-10-11\n",
      "\n",
      "Title: lovely (with Khalid)\n",
      "URI: spotify:track:0u2P5u6lvoDfwTYjAADbn4\n",
      "Album: lovely (with Khalid)\n",
      "Popularity Score: 89\n",
      "Released on: 2018-04-19\n",
      "\n",
      "Title: ocean eyes\n",
      "URI: spotify:track:7hDVYcQq6MxkdJGweuCtl9\n",
      "Album: dont smile at me\n",
      "Popularity Score: 86\n",
      "Released on: 2017-12-22\n",
      "\n",
      "Title: What Was I Made For? [From The Motion Picture \"Barbie\"]\n",
      "URI: spotify:track:6wf7Yu7cxBSPrRlWeSeK0Q\n",
      "Album: What Was I Made For? [From The Motion Picture \"Barbie\"]\n",
      "Popularity Score: 88\n",
      "Released on: 2023-07-13\n",
      "\n",
      "Title: when the party's over\n",
      "URI: spotify:track:43zdsphuZLzwA9k4DJhU0I\n",
      "Album: WHEN WE ALL FALL ASLEEP, WHERE DO WE GO?\n",
      "Popularity Score: 88\n",
      "Released on: 2019-03-29\n",
      "\n",
      "Title: LUNCH\n",
      "URI: spotify:track:629DixmZGHc7ILtEntuiWE\n",
      "Album: HIT ME HARD AND SOFT\n",
      "Popularity Score: 87\n",
      "Released on: 2024-05-17\n",
      "\n",
      "Title: TV\n",
      "URI: spotify:track:3GYlZ7tbxLOxe6ewMNVTkw\n",
      "Album: Guitar Songs\n",
      "Popularity Score: 87\n",
      "Released on: 2022-07-21\n",
      "\n"
     ]
    }
   ],
   "source": [
    "# Example: Display some data from Billie Eilish' songs\n",
    "billie_uri = 'spotify:artist:6qqNVTkY8uBg9cP3Jd7DAH' # find the uri for Billie Eilish \n",
    "results = sp.artist_top_tracks(billie_uri) # Gets Spotify catalog information about an artist’s top 10 tracks by country.\n",
    "\n",
    "# display(results['tracks']) # Seeing how the data is organized and how to take the information we want\n",
    "print('----- Top 10 tracks by Billie Eilish: -----')\n",
    "\n",
    "for track in results['tracks']:\n",
    "    print('Title: ' + track['name'])\n",
    "    print('URI: ' + track['uri'])\n",
    "    print('Album: ' + track['album']['name'])\n",
    "    print('Popularity Score:', track['popularity'])\n",
    "    print('Released on: ' + track['album']['release_date'])\n",
    "    print()"
   ]
  },
  {
   "cell_type": "code",
   "execution_count": null,
   "id": "726d01cd",
   "metadata": {},
   "outputs": [
    {
     "name": "stdout",
     "output_type": "stream",
     "text": [
      "eternal sunshine\n"
     ]
    }
   ],
   "source": [
    "''' \n",
    "Exploring Spotipy's search function:\n",
    "------------------------------------\n",
    "search(query, limit=10, type='track', market=None)\n",
    "- Default values indicated; only query is required\n",
    "- Market refers to the country you want to search\n",
    "- Limit is number of search results\n",
    "- Type is more self-explanatory: options are \"album\", \"artist\", \"playlist\", \"track\", \"show\", \"episode\", \"audiobook\"\n",
    "\n",
    "For our purposes, it probably works to just submit a string of the info we want. There is a way to use\n",
    "filters for more precise results, but I don't think we'll need to do that since the search works well\n",
    "enough.\n",
    "- If you're really curious: look into how to write a query: https://developer.spotify.com/documentation/web-api/reference/search\n",
    "'''\n",
    "\n",
    "testing_search = sp.search('Ariana sunshine') # the search function works well even if you don't put in all the info\n",
    "print(testing_search['tracks']['items'][0]['name'])"
   ]
  }
 ],
 "metadata": {
  "kernelspec": {
   "display_name": ".venv",
   "language": "python",
   "name": "python3"
  },
  "language_info": {
   "codemirror_mode": {
    "name": "ipython",
    "version": 3
   },
   "file_extension": ".py",
   "mimetype": "text/x-python",
   "name": "python",
   "nbconvert_exporter": "python",
   "pygments_lexer": "ipython3",
   "version": "3.13.3"
  }
 },
 "nbformat": 4,
 "nbformat_minor": 5
}
